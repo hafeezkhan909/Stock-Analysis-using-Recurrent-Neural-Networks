{
 "cells": [
  {
   "cell_type": "code",
   "execution_count": 1,
   "id": "db6087eb",
   "metadata": {},
   "outputs": [],
   "source": [
    "\"\"\"Data loader.\n",
    "\n",
    "Author: Jinsung Yoon\n",
    "Contact: jsyoon0823@gmail.com\n",
    "----------------------------------------\n",
    "Loads Google stock dataset with MinMax normalization.\n",
    "Reference: https://finance.yahoo.com/quote/GOOGL/history?p=GOOGL\n",
    "\"\"\"\n",
    "\n",
    "# Necessary Packages\n",
    "import numpy as np\n",
    "from Utils import MinMaxScaler\n",
    "\n",
    "\n",
    "def data_loader(train_rate = 0.8, seq_len = 7):\n",
    "\n",
    "  \n",
    "  # Load data\n",
    "    ori_data = np.loadtxt('data/google.csv', delimiter=',', skiprows = 1)\n",
    "  # Reverse the time order\n",
    "    reverse_data = ori_data[::-1]\n",
    "  # Normalization\n",
    "    norm_data = MinMaxScaler(reverse_data)\n",
    "    \n",
    "  # Build dataset\n",
    "    data_x = []\n",
    "    data_y = []\n",
    "  \n",
    "    for i in range(0, len(norm_data[:,0]) - seq_len):\n",
    "    # Previous seq_len data as features\n",
    "        temp_x = norm_data[i:i + seq_len,:]\n",
    "    # Values at next time point as labels\n",
    "        temp_y = norm_data[i + seq_len, [-1]]\n",
    "        data_x = data_x + [temp_x]\n",
    "        data_y = data_y + [temp_y]\n",
    "    \n",
    "    data_x = np.asarray(data_x)\n",
    "    data_y = np.asarray(data_y)\n",
    "            \n",
    "  # Train / test Division   \n",
    "    idx = np.random.permutation(len(data_x))\n",
    "    train_idx = idx[:int(train_rate * len(data_x))]\n",
    "    test_idx = idx[int(train_rate * len(data_x)):]\n",
    "        \n",
    "    train_x, test_x = data_x[train_idx, :, :], data_x[test_idx, :, :]\n",
    "    train_y, test_y = data_y[train_idx, :], data_y[test_idx, :]\n",
    "    \n",
    "    return train_x, train_y, test_x, test_y\n"
   ]
  },
  {
   "cell_type": "code",
   "execution_count": null,
   "id": "56ead76e",
   "metadata": {},
   "outputs": [],
   "source": []
  }
 ],
 "metadata": {
  "kernelspec": {
   "display_name": "Python 3 (ipykernel)",
   "language": "python",
   "name": "python3"
  },
  "language_info": {
   "codemirror_mode": {
    "name": "ipython",
    "version": 3
   },
   "file_extension": ".py",
   "mimetype": "text/x-python",
   "name": "python",
   "nbconvert_exporter": "python",
   "pygments_lexer": "ipython3",
   "version": "3.7.9"
  }
 },
 "nbformat": 4,
 "nbformat_minor": 5
}
